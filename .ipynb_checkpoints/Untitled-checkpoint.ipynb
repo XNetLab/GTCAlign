{
 "cells": [
  {
   "cell_type": "code",
   "execution_count": 8,
   "id": "454ec8f4",
   "metadata": {},
   "outputs": [],
   "source": [
    "import numpy as np\n",
    "import fileinput"
   ]
  },
  {
   "cell_type": "code",
   "execution_count": 13,
   "id": "a99ab2c3",
   "metadata": {},
   "outputs": [
    {
     "data": {
      "text/plain": [
       "['Topo_shang:1.0000\\t Topo_xia:1.0100\\t Accuracy:0.6623\\t MAP:0.7377\\t Precision_1:0.6623\\t Precision_10:0.8838',\n",
       " 'Topo_shang:1.0000\\t Topo_xia:1.0100\\t Accuracy:0.6639\\t MAP:0.7389\\t Precision_1:0.6648\\t Precision_10:0.8835\\n',\n",
       " 'Topo_shang:1.0000\\t Topo_xia:1.0100\\t Accuracy:0.6648\\t MAP:0.7401\\t Precision_1:0.6653\\t Precision_10:0.8852\\n',\n",
       " 'Topo_shang:1.0000\\t Topo_xia:1.0100\\t Accuracy:0.6666\\t MAP:0.7414\\t Precision_1:0.6666\\t Precision_10:0.8871\\n',\n",
       " 'Topo_shang:1.0000\\t Topo_xia:1.0100\\t Accuracy:0.6666\\t MAP:0.7420\\t Precision_1:0.6674\\t Precision_10:0.8892\\n',\n",
       " 'Topo_shang:1.0000\\t Topo_xia:1.0100\\t Accuracy:0.6667\\t MAP:0.7428\\t Precision_1:0.6670\\t Precision_10:0.8912\\n',\n",
       " 'Topo_shang:1.0000\\t Topo_xia:1.0100\\t Accuracy:0.6694\\t MAP:0.7446\\t Precision_1:0.6699\\t Precision_10:0.8922\\n',\n",
       " 'Topo_shang:1.0000\\t Topo_xia:1.0100\\t Accuracy:0.6713\\t MAP:0.7463\\t Precision_1:0.6715\\t Precision_10:0.8930\\n',\n",
       " 'Topo_shang:1.0000\\t Topo_xia:1.0100\\t Accuracy:0.6726\\t MAP:0.7477\\t Precision_1:0.6726\\t Precision_10:0.8944\\n',\n",
       " 'Topo_shang:1.0000\\t Topo_xia:1.0100\\t Accuracy:0.6748\\t MAP:0.7493\\t Precision_1:0.6751\\t Precision_10:0.8963\\n',\n",
       " 'Topo_shang:1.0000\\t Topo_xia:1.0100\\t Accuracy:0.6759\\t MAP:0.7510\\t Precision_1:0.6756\\t Precision_10:0.8963\\n',\n",
       " 'Topo_shang:1.0000\\t Topo_xia:1.0100\\t Accuracy:0.6762\\t MAP:0.7525\\t Precision_1:0.6760\\t Precision_10:0.8974\\n',\n",
       " 'Topo_shang:1.0000\\t Topo_xia:1.0100\\t Accuracy:0.6789\\t MAP:0.7537\\t Precision_1:0.6787\\t Precision_10:0.8987\\n',\n",
       " 'Topo_shang:1.0000\\t Topo_xia:1.0100\\t Accuracy:0.6803\\t MAP:0.7548\\t Precision_1:0.6797\\t Precision_10:0.9002\\n',\n",
       " 'Topo_shang:1.0000\\t Topo_xia:1.0100\\t Accuracy:0.6806\\t MAP:0.7561\\t Precision_1:0.6811\\t Precision_10:0.9025\\n',\n",
       " 'Topo_shang:1.0000\\t Topo_xia:1.0100\\t Accuracy:0.6816\\t MAP:0.7573\\t Precision_1:0.6813\\t Precision_10:0.9012\\n',\n",
       " 'Topo_shang:1.0000\\t Topo_xia:1.0100\\t Accuracy:0.6838\\t MAP:0.7596\\t Precision_1:0.6846\\t Precision_10:0.9032\\n',\n",
       " 'Topo_shang:1.0000\\t Topo_xia:1.0100\\t Accuracy:0.6844\\t MAP:0.7603\\t Precision_1:0.6843\\t Precision_10:0.9045\\n',\n",
       " 'Topo_shang:1.0000\\t Topo_xia:1.0100\\t Accuracy:0.6868\\t MAP:0.7624\\t Precision_1:0.6865\\t Precision_10:0.9051\\n',\n",
       " 'Topo_shang:1.0000\\t Topo_xia:1.0100\\t Accuracy:0.6854\\t MAP:0.7621\\t Precision_1:0.6854\\t Precision_10:0.9062\\n',\n",
       " 'Topo_shang:1.0000\\t Topo_xia:1.0100\\t Accuracy:0.6881\\t MAP:0.7644\\t Precision_1:0.6884\\t Precision_10:0.9081\\n',\n",
       " 'Topo_shang:1.0000\\t Topo_xia:1.0100\\t Accuracy:0.6884\\t MAP:0.7651\\t Precision_1:0.6887\\t Precision_10:0.9081\\n',\n",
       " 'Topo_shang:1.0000\\t Topo_xia:1.0100\\t Accuracy:0.6901\\t MAP:0.7669\\t Precision_1:0.6901\\t Precision_10:0.9102\\n',\n",
       " 'Topo_shang:1.0000\\t Topo_xia:1.0100\\t Accuracy:0.6919\\t MAP:0.7684\\t Precision_1:0.6914\\t Precision_10:0.9115\\n',\n",
       " 'Topo_shang:1.0000\\t Topo_xia:1.0100\\t Accuracy:0.6942\\t MAP:0.7702\\t Precision_1:0.6939\\t Precision_10:0.9135\\n',\n",
       " 'Topo_shang:1.0000\\t Topo_xia:1.0100\\t Accuracy:0.6950\\t MAP:0.7714\\t Precision_1:0.6952\\t Precision_10:0.9145\\n',\n",
       " 'Topo_shang:1.0000\\t Topo_xia:1.0100\\t Accuracy:0.6968\\t MAP:0.7730\\t Precision_1:0.6971\\t Precision_10:0.9153\\n',\n",
       " 'Topo_shang:1.0000\\t Topo_xia:1.0100\\t Accuracy:0.6987\\t MAP:0.7736\\t Precision_1:0.6988\\t Precision_10:0.9148\\n',\n",
       " 'Topo_shang:1.0000\\t Topo_xia:1.0100\\t Accuracy:0.7002\\t MAP:0.7757\\t Precision_1:0.7006\\t Precision_10:0.9160\\n',\n",
       " 'Topo_shang:1.0000\\t Topo_xia:1.0100\\t Accuracy:0.7020\\t MAP:0.7775\\t Precision_1:0.7029\\t Precision_10:0.9181\\n',\n",
       " 'Topo_shang:1.0000\\t Topo_xia:1.0100\\t Accuracy:0.7032\\t MAP:0.7787\\t Precision_1:0.7037\\t Precision_10:0.9195\\n',\n",
       " 'Topo_shang:1.0000\\t Topo_xia:1.0100\\t Accuracy:0.7053\\t MAP:0.7801\\t Precision_1:0.7055\\t Precision_10:0.9194\\n',\n",
       " 'Topo_shang:1.0000\\t Topo_xia:1.0100\\t Accuracy:0.7075\\t MAP:0.7820\\t Precision_1:0.7078\\t Precision_10:0.9206\\n',\n",
       " 'Topo_shang:1.0000\\t Topo_xia:1.0100\\t Accuracy:0.7081\\t MAP:0.7826\\t Precision_1:0.7094\\t Precision_10:0.9225\\n',\n",
       " 'Topo_shang:1.0000\\t Topo_xia:1.0100\\t Accuracy:0.7104\\t MAP:0.7844\\t Precision_1:0.7102\\t Precision_10:0.9244\\n',\n",
       " 'Topo_shang:1.0000\\t Topo_xia:1.0100\\t Accuracy:0.7116\\t MAP:0.7853\\t Precision_1:0.7116\\t Precision_10:0.9255\\n',\n",
       " 'Topo_shang:1.0000\\t Topo_xia:1.0100\\t Accuracy:0.7132\\t MAP:0.7870\\t Precision_1:0.7132\\t Precision_10:0.9260\\n',\n",
       " 'Topo_shang:1.0000\\t Topo_xia:1.0100\\t Accuracy:0.7167\\t MAP:0.7899\\t Precision_1:0.7165\\t Precision_10:0.9284\\n',\n",
       " 'Topo_shang:1.0000\\t Topo_xia:1.0100\\t Accuracy:0.7181\\t MAP:0.7915\\t Precision_1:0.7187\\t Precision_10:0.9296\\n',\n",
       " 'Topo_shang:1.0000\\t Topo_xia:1.0100\\t Accuracy:0.7187\\t MAP:0.7920\\t Precision_1:0.7192\\t Precision_10:0.9306\\n',\n",
       " 'Topo_shang:1.0000\\t Topo_xia:1.0100\\t Accuracy:0.7202\\t MAP:0.7934\\t Precision_1:0.7200\\t Precision_10:0.9320\\n',\n",
       " 'Topo_shang:1.0000\\t Topo_xia:1.0100\\t Accuracy:0.7225\\t MAP:0.7948\\t Precision_1:0.7221\\t Precision_10:0.9320\\n',\n",
       " 'Topo_shang:1.0000\\t Topo_xia:1.0100\\t Accuracy:0.7251\\t MAP:0.7970\\t Precision_1:0.7244\\t Precision_10:0.9333\\n',\n",
       " 'Topo_shang:1.0000\\t Topo_xia:1.0100\\t Accuracy:0.7262\\t MAP:0.7982\\t Precision_1:0.7270\\t Precision_10:0.9345\\n',\n",
       " 'Topo_shang:1.0000\\t Topo_xia:1.0100\\t Accuracy:0.7270\\t MAP:0.7981\\t Precision_1:0.7271\\t Precision_10:0.9349\\n',\n",
       " 'Topo_shang:1.0000\\t Topo_xia:1.0100\\t Accuracy:0.7282\\t MAP:0.7987\\t Precision_1:0.7281\\t Precision_10:0.9347\\n',\n",
       " 'Topo_shang:1.0000\\t Topo_xia:1.0100\\t Accuracy:0.7296\\t MAP:0.8003\\t Precision_1:0.7296\\t Precision_10:0.9352\\n',\n",
       " 'Topo_shang:1.0000\\t Topo_xia:1.0100\\t Accuracy:0.7309\\t MAP:0.8012\\t Precision_1:0.7317\\t Precision_10:0.9357\\n',\n",
       " 'Topo_shang:1.0000\\t Topo_xia:1.0100\\t Accuracy:0.7339\\t MAP:0.8049\\t Precision_1:0.7342\\t Precision_10:0.9374\\n',\n",
       " 'Topo_shang:1.0000\\t Topo_xia:1.0100\\t Accuracy:0.7371\\t MAP:0.8067\\t Precision_1:0.7371\\t Precision_10:0.9383\\n',\n",
       " 'Topo_shang:1.0000\\t Topo_xia:1.0100\\t Accuracy:0.7385\\t MAP:0.8082\\t Precision_1:0.7382\\t Precision_10:0.9391\\n',\n",
       " 'Topo_shang:1.0000\\t Topo_xia:1.0100\\t Accuracy:0.7402\\t MAP:0.8095\\t Precision_1:0.7399\\t Precision_10:0.9387\\n',\n",
       " 'Topo_shang:1.0000\\t Topo_xia:1.0100\\t Accuracy:0.7431\\t MAP:0.8120\\t Precision_1:0.7432\\t Precision_10:0.9396\\n',\n",
       " 'Topo_shang:1.0000\\t Topo_xia:1.0100\\t Accuracy:0.7439\\t MAP:0.8125\\t Precision_1:0.7437\\t Precision_10:0.9420\\n',\n",
       " 'Topo_shang:1.0000\\t Topo_xia:1.0100\\t Accuracy:0.7458\\t MAP:0.8139\\t Precision_1:0.7458\\t Precision_10:0.9425\\n',\n",
       " 'Topo_shang:1.0000\\t Topo_xia:1.0100\\t Accuracy:0.7475\\t MAP:0.8149\\t Precision_1:0.7475\\t Precision_10:0.9440\\n',\n",
       " 'Topo_shang:1.0000\\t Topo_xia:1.0100\\t Accuracy:0.7481\\t MAP:0.8160\\t Precision_1:0.7485\\t Precision_10:0.9450\\n',\n",
       " 'Topo_shang:1.0000\\t Topo_xia:1.0100\\t Accuracy:0.7489\\t MAP:0.8165\\t Precision_1:0.7488\\t Precision_10:0.9439\\n',\n",
       " 'Topo_shang:1.0000\\t Topo_xia:1.0100\\t Accuracy:0.7499\\t MAP:0.8175\\t Precision_1:0.7499\\t Precision_10:0.9456\\n',\n",
       " 'Topo_shang:1.0000\\t Topo_xia:1.0100\\t Accuracy:0.7507\\t MAP:0.8188\\t Precision_1:0.7500\\t Precision_10:0.9478\\n',\n",
       " 'Topo_shang:1.0000\\t Topo_xia:1.0100\\t Accuracy:0.7510\\t MAP:0.8187\\t Precision_1:0.7502\\t Precision_10:0.9485\\n',\n",
       " 'Topo_shang:1.0000\\t Topo_xia:1.0100\\t Accuracy:0.7519\\t MAP:0.8201\\t Precision_1:0.7521\\t Precision_10:0.9494\\n',\n",
       " 'Topo_shang:1.0000\\t Topo_xia:1.0100\\t Accuracy:0.7527\\t MAP:0.8211\\t Precision_1:0.7527\\t Precision_10:0.9510\\n',\n",
       " 'Topo_shang:1.0000\\t Topo_xia:1.0100\\t Accuracy:0.7535\\t MAP:0.8219\\t Precision_1:0.7530\\t Precision_10:0.9510\\n',\n",
       " 'Topo_shang:1.0000\\t Topo_xia:1.0100\\t Accuracy:0.7557\\t MAP:0.8240\\t Precision_1:0.7546\\t Precision_10:0.9526\\n',\n",
       " 'Topo_shang:1.0000\\t Topo_xia:1.0100\\t Accuracy:0.7545\\t MAP:0.8234\\t Precision_1:0.7542\\t Precision_10:0.9542\\n',\n",
       " 'Topo_shang:1.0000\\t Topo_xia:1.0100\\t Accuracy:0.7572\\t MAP:0.8257\\t Precision_1:0.7568\\t Precision_10:0.9545\\n',\n",
       " 'Topo_shang:1.0000\\t Topo_xia:1.0100\\t Accuracy:0.7583\\t MAP:0.8264\\t Precision_1:0.7575\\t Precision_10:0.9543\\n',\n",
       " 'Topo_shang:1.0000\\t Topo_xia:1.0100\\t Accuracy:0.7605\\t MAP:0.8286\\t Precision_1:0.7602\\t Precision_10:0.9564\\n',\n",
       " 'Topo_shang:1.0000\\t Topo_xia:1.0100\\t Accuracy:0.7603\\t MAP:0.8286\\t Precision_1:0.7602\\t Precision_10:0.9579\\n',\n",
       " 'Topo_shang:1.0000\\t Topo_xia:1.0100\\t Accuracy:0.7598\\t MAP:0.8283\\t Precision_1:0.7600\\t Precision_10:0.9583\\n',\n",
       " 'Topo_shang:1.0000\\t Topo_xia:1.0100\\t Accuracy:0.7609\\t MAP:0.8293\\t Precision_1:0.7613\\t Precision_10:0.9583\\n',\n",
       " 'Topo_shang:1.0000\\t Topo_xia:1.0100\\t Accuracy:0.7600\\t MAP:0.8285\\t Precision_1:0.7602\\t Precision_10:0.9586\\n',\n",
       " 'Topo_shang:1.0000\\t Topo_xia:1.0100\\t Accuracy:0.7597\\t MAP:0.8284\\t Precision_1:0.7591\\t Precision_10:0.9586\\n',\n",
       " 'Topo_shang:1.0000\\t Topo_xia:1.0100\\t Accuracy:0.7600\\t MAP:0.8283\\t Precision_1:0.7602\\t Precision_10:0.9589\\n',\n",
       " 'Topo_shang:1.0000\\t Topo_xia:1.0100\\t Accuracy:0.7609\\t MAP:0.8301\\t Precision_1:0.7613\\t Precision_10:0.9606\\n',\n",
       " 'Topo_shang:1.0000\\t Topo_xia:1.0100\\t Accuracy:0.7609\\t MAP:0.8293\\t Precision_1:0.7605\\t Precision_10:0.9613\\n',\n",
       " 'Topo_shang:1.0000\\t Topo_xia:1.0100\\t Accuracy:0.7616\\t MAP:0.8303\\t Precision_1:0.7621\\t Precision_10:0.9611\\n',\n",
       " 'Topo_shang:1.0000\\t Topo_xia:1.0100\\t Accuracy:0.7608\\t MAP:0.8299\\t Precision_1:0.7608\\t Precision_10:0.9616\\n',\n",
       " 'Topo_shang:1.0000\\t Topo_xia:1.0100\\t Accuracy:0.7598\\t MAP:0.8289\\t Precision_1:0.7591\\t Precision_10:0.9605\\n']"
      ]
     },
     "execution_count": 13,
     "metadata": {},
     "output_type": "execute_result"
    }
   ],
   "source": [
    "t = []\n",
    "for line in fileinput.input('./iter__acm_dblp.txt'):\n",
    "    t.append(line)\n",
    "t.reverse()\n",
    "t"
   ]
  },
  {
   "cell_type": "code",
   "execution_count": null,
   "id": "a3cb3785",
   "metadata": {},
   "outputs": [],
   "source": []
  }
 ],
 "metadata": {
  "kernelspec": {
   "display_name": "next",
   "language": "python",
   "name": "next"
  },
  "language_info": {
   "codemirror_mode": {
    "name": "ipython",
    "version": 3
   },
   "file_extension": ".py",
   "mimetype": "text/x-python",
   "name": "python",
   "nbconvert_exporter": "python",
   "pygments_lexer": "ipython3",
   "version": "3.7.13"
  }
 },
 "nbformat": 4,
 "nbformat_minor": 5
}
